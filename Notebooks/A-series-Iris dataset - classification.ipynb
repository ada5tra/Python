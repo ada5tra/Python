{
 "cells": [
  {
   "cell_type": "code",
   "execution_count": 4,
   "metadata": {},
   "outputs": [],
   "source": [
    "import pandas as pd  \n",
    "\n",
    "\n",
    "iris = pd.read_csv('Iris.csv')\n",
    "\n",
    "#classification project, since the variable to be predicted is categorical (setosa, versicolor or virginica)."
   ]
  },
  {
   "cell_type": "code",
   "execution_count": 5,
   "metadata": {},
   "outputs": [
    {
     "name": "stdout",
     "output_type": "stream",
     "text": [
      "Target names: ['setosa' 'versicolor' 'virginica']\n",
      "Feature names: ['sepal length (cm)', 'sepal width (cm)', 'petal length (cm)', 'petal width (cm)']\n",
      "Shape of data: (150, 4)\n"
     ]
    }
   ],
   "source": [
    "\n",
    "\n",
    "from  sklearn import  datasets\n",
    "iris=datasets.load_iris()\n",
    "\n",
    "\n",
    "print(\"Target names: {}\".format(iris['target_names']))\n",
    "print(\"Feature names: {}\".format(iris['feature_names']))\n",
    "print(\"Shape of data: {}\".format(iris['data'].shape))\n",
    "\n",
    "\n",
    "from sklearn.model_selection import train_test_split\n",
    "\n",
    "X_train, X_test, y_train, y_test = train_test_split(iris['data'], iris['target'], random_state=0)\n",
    "\n"
   ]
  },
  {
   "cell_type": "code",
   "execution_count": 6,
   "metadata": {},
   "outputs": [],
   "source": [
    "from sklearn import neighbors\n",
    "classifier=neighbors.KNeighborsClassifier()\n",
    "\n",
    "classifier.fit(X_train,y_train)\n",
    "\n",
    "predictions=classifier.predict(X_test)\n",
    "    "
   ]
  },
  {
   "cell_type": "code",
   "execution_count": 7,
   "metadata": {},
   "outputs": [
    {
     "name": "stdout",
     "output_type": "stream",
     "text": [
      "Quality score of classifier:\n",
      "0.9736842105263158\n"
     ]
    }
   ],
   "source": [
    "#Xnew = np.array([[5, 2.9, 2, 2.3]])  para testar criamos uma entrada nova epodemos mudar os valores\n",
    "#prediction = classifier.predict(Xnew)\n",
    "#print(\"Prediction: {}\".format(prediction))\n",
    "#print(\"Predicted target name: {}\".format(iris['target_names'][prediction]))\n",
    "\n",
    "\n",
    "from sklearn.metrics import accuracy_score\n",
    "print (\"Quality score of classifier:\")\n",
    "print (accuracy_score(y_test,predictions))"
   ]
  },
  {
   "cell_type": "code",
   "execution_count": null,
   "metadata": {},
   "outputs": [],
   "source": []
  },
  {
   "cell_type": "code",
   "execution_count": null,
   "metadata": {},
   "outputs": [],
   "source": []
  },
  {
   "cell_type": "code",
   "execution_count": null,
   "metadata": {},
   "outputs": [],
   "source": []
  }
 ],
 "metadata": {
  "kernelspec": {
   "display_name": "Python 3",
   "language": "python",
   "name": "python3"
  },
  "language_info": {
   "codemirror_mode": {
    "name": "ipython",
    "version": 3
   },
   "file_extension": ".py",
   "mimetype": "text/x-python",
   "name": "python",
   "nbconvert_exporter": "python",
   "pygments_lexer": "ipython3",
   "version": "3.7.6"
  }
 },
 "nbformat": 4,
 "nbformat_minor": 4
}
