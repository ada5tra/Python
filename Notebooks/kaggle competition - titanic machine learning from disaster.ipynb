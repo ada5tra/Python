{
 "cells": [
  {
   "cell_type": "markdown",
   "metadata": {},
   "source": [
    "I'll be compiling and experimenting with various methods of prediction. Also I want to experiment and learn the best practices on how to approach a problem. This may also serve as a \"tutorial\" for others.\n",
    "The competition solution workflow goes through seven stages described in the Data Science Solutions book.\n",
    "\n",
    "- Question or problem definition.\n",
    "- Acquire training and testing data.\n",
    "- Wrangle, prepare, cleanse the data.\n",
    "- Analyze, identify patterns, and explore the data.\n",
    "- Model, predict and solve the problem.\n",
    "- Visualize, report, and present the problem solving steps and final solution.\n",
    "- Supply or submit the results.\n",
    "\n",
    "  \n",
    "<br>\n",
    "\n",
    "*The sinking of the Titanic is one of the most infamous shipwrecks in history.*\n",
    "\n",
    "*On April 15, 1912, during her maiden voyage, the widely considered “unsinkable” RMS Titanic sank after colliding with an iceberg. Unfortunately, there weren’t enough lifeboats for everyone onboard, resulting in the death of 1502 out of 2224 passengers and crew.*\n",
    "\n",
    "*While there was some element of luck involved in surviving, it seems some groups of people were more likely to survive than others.*\n",
    "\n",
    "*In this challenge, we ask you to build a predictive model that answers the question: “what sorts of people were more likely to survive?” using passenger data (ie name, age, gender, socio-economic class, etc).*\n"
   ]
  },
  {
   "cell_type": "markdown",
   "metadata": {},
   "source": [
    "### Importing libraries"
   ]
  },
  {
   "cell_type": "code",
   "execution_count": 1,
   "metadata": {},
   "outputs": [],
   "source": [
    "import pandas as pd\n",
    "import numpy as np\n",
    "import seaborn as sns \n",
    "import matplotlib.pyplot as plt\n",
    "%matplotlib inline"
   ]
  },
  {
   "cell_type": "markdown",
   "metadata": {},
   "source": [
    "### Loading available data"
   ]
  },
  {
   "cell_type": "code",
   "execution_count": 2,
   "metadata": {},
   "outputs": [
    {
     "data": {
      "text/html": [
       "<div>\n",
       "<style scoped>\n",
       "    .dataframe tbody tr th:only-of-type {\n",
       "        vertical-align: middle;\n",
       "    }\n",
       "\n",
       "    .dataframe tbody tr th {\n",
       "        vertical-align: top;\n",
       "    }\n",
       "\n",
       "    .dataframe thead th {\n",
       "        text-align: right;\n",
       "    }\n",
       "</style>\n",
       "<table border=\"1\" class=\"dataframe\">\n",
       "  <thead>\n",
       "    <tr style=\"text-align: right;\">\n",
       "      <th></th>\n",
       "      <th>PassengerId</th>\n",
       "      <th>Survived</th>\n",
       "      <th>Pclass</th>\n",
       "      <th>Name</th>\n",
       "      <th>Sex</th>\n",
       "      <th>Age</th>\n",
       "      <th>SibSp</th>\n",
       "      <th>Parch</th>\n",
       "      <th>Ticket</th>\n",
       "      <th>Fare</th>\n",
       "      <th>Cabin</th>\n",
       "      <th>Embarked</th>\n",
       "    </tr>\n",
       "  </thead>\n",
       "  <tbody>\n",
       "    <tr>\n",
       "      <th>0</th>\n",
       "      <td>1</td>\n",
       "      <td>0</td>\n",
       "      <td>3</td>\n",
       "      <td>Braund, Mr. Owen Harris</td>\n",
       "      <td>male</td>\n",
       "      <td>22.0</td>\n",
       "      <td>1</td>\n",
       "      <td>0</td>\n",
       "      <td>A/5 21171</td>\n",
       "      <td>7.2500</td>\n",
       "      <td>NaN</td>\n",
       "      <td>S</td>\n",
       "    </tr>\n",
       "    <tr>\n",
       "      <th>1</th>\n",
       "      <td>2</td>\n",
       "      <td>1</td>\n",
       "      <td>1</td>\n",
       "      <td>Cumings, Mrs. John Bradley (Florence Briggs Th...</td>\n",
       "      <td>female</td>\n",
       "      <td>38.0</td>\n",
       "      <td>1</td>\n",
       "      <td>0</td>\n",
       "      <td>PC 17599</td>\n",
       "      <td>71.2833</td>\n",
       "      <td>C85</td>\n",
       "      <td>C</td>\n",
       "    </tr>\n",
       "    <tr>\n",
       "      <th>2</th>\n",
       "      <td>3</td>\n",
       "      <td>1</td>\n",
       "      <td>3</td>\n",
       "      <td>Heikkinen, Miss. Laina</td>\n",
       "      <td>female</td>\n",
       "      <td>26.0</td>\n",
       "      <td>0</td>\n",
       "      <td>0</td>\n",
       "      <td>STON/O2. 3101282</td>\n",
       "      <td>7.9250</td>\n",
       "      <td>NaN</td>\n",
       "      <td>S</td>\n",
       "    </tr>\n",
       "    <tr>\n",
       "      <th>3</th>\n",
       "      <td>4</td>\n",
       "      <td>1</td>\n",
       "      <td>1</td>\n",
       "      <td>Futrelle, Mrs. Jacques Heath (Lily May Peel)</td>\n",
       "      <td>female</td>\n",
       "      <td>35.0</td>\n",
       "      <td>1</td>\n",
       "      <td>0</td>\n",
       "      <td>113803</td>\n",
       "      <td>53.1000</td>\n",
       "      <td>C123</td>\n",
       "      <td>S</td>\n",
       "    </tr>\n",
       "    <tr>\n",
       "      <th>4</th>\n",
       "      <td>5</td>\n",
       "      <td>0</td>\n",
       "      <td>3</td>\n",
       "      <td>Allen, Mr. William Henry</td>\n",
       "      <td>male</td>\n",
       "      <td>35.0</td>\n",
       "      <td>0</td>\n",
       "      <td>0</td>\n",
       "      <td>373450</td>\n",
       "      <td>8.0500</td>\n",
       "      <td>NaN</td>\n",
       "      <td>S</td>\n",
       "    </tr>\n",
       "  </tbody>\n",
       "</table>\n",
       "</div>"
      ],
      "text/plain": [
       "   PassengerId  Survived  Pclass  \\\n",
       "0            1         0       3   \n",
       "1            2         1       1   \n",
       "2            3         1       3   \n",
       "3            4         1       1   \n",
       "4            5         0       3   \n",
       "\n",
       "                                                Name     Sex   Age  SibSp  \\\n",
       "0                            Braund, Mr. Owen Harris    male  22.0      1   \n",
       "1  Cumings, Mrs. John Bradley (Florence Briggs Th...  female  38.0      1   \n",
       "2                             Heikkinen, Miss. Laina  female  26.0      0   \n",
       "3       Futrelle, Mrs. Jacques Heath (Lily May Peel)  female  35.0      1   \n",
       "4                           Allen, Mr. William Henry    male  35.0      0   \n",
       "\n",
       "   Parch            Ticket     Fare Cabin Embarked  \n",
       "0      0         A/5 21171   7.2500   NaN        S  \n",
       "1      0          PC 17599  71.2833   C85        C  \n",
       "2      0  STON/O2. 3101282   7.9250   NaN        S  \n",
       "3      0            113803  53.1000  C123        S  \n",
       "4      0            373450   8.0500   NaN        S  "
      ]
     },
     "execution_count": 2,
     "metadata": {},
     "output_type": "execute_result"
    }
   ],
   "source": [
    "train_data = pd.read_csv('Downloads/titanic/train.csv')\n",
    "test_data = pd.read_csv('Downloads/titanic/test.csv')\n",
    "\n",
    "train_data.head()"
   ]
  },
  {
   "cell_type": "markdown",
   "metadata": {},
   "source": [
    "# EDA\n",
    "\n",
    "EDA techniques allow for effective manipulation of data sources, enabling data scientists to find the answers they need by discovering data patterns, spotting anomalies, checking assumptions, or testing a hypothesis. \n",
    "\n",
    "Data specialists primarily use exploratory data analysis to discern what datasets can reveal further beyond formal modeling of data or hypothesis testing tasks. This enables them to gain in-depth knowledge of the variables in datasets and their relationships.  \n",
    "\n",
    "Exploratory data analysis can help detect obvious errors, identify outliers in datasets, understand relationships, unearth important factors, find patterns within data, and provide new insights. \n",
    "It's about finding correlations between features. By doing this, we can gain a strong insight into which feature should be used. We need to create the ability to interpret pictures.\n",
    "\n",
    "There are four exploratory data analysis techniques that data experts use, which include:\n",
    "\n",
    "Univariate Non-Graphical\n",
    "\n",
    "This is the simplest type of EDA, where data has a single variable. Since there is only one variable, data professionals do not have to deal with relationships. \n",
    "\n",
    "Univariate Graphical\n",
    "\n",
    "Non-graphical techniques do not present the complete picture of data. Therefore, for comprehensive EDA, data specialists implement graphical methods, such as stem-and-leaf plots, box plots, and histograms. \n",
    "\n",
    "Multivariate Non-Graphical\n",
    "\n",
    "Multivariate data consists of several variables. Non-graphic multivariate EDA methods illustrate relationships between 2 or more data variables using statistics or cross-tabulation.\n",
    "\n",
    "Multivariate Graphical\n",
    "\n",
    "This EDA technique makes use of graphics to show relationships between 2 or more datasets. The widely-used multivariate graphics include bar chart, bar plot, heat map, bubble chart, run chart, multivariate chart, and scatter plot. "
   ]
  },
  {
   "cell_type": "code",
   "execution_count": 3,
   "metadata": {},
   "outputs": [
    {
     "name": "stdout",
     "output_type": "stream",
     "text": [
      "Here is some Basic Ground Info about the data:\n",
      "\n",
      "Number of Instances: 891\n",
      "Number of Features: 12\n",
      "\n",
      "Summary Stats:\n",
      "       PassengerId    Survived      Pclass         Age       SibSp  \\\n",
      "count   891.000000  891.000000  891.000000  714.000000  891.000000   \n",
      "mean    446.000000    0.383838    2.308642   29.699118    0.523008   \n",
      "std     257.353842    0.486592    0.836071   14.526497    1.102743   \n",
      "min       1.000000    0.000000    1.000000    0.420000    0.000000   \n",
      "25%     223.500000    0.000000    2.000000   20.125000    0.000000   \n",
      "50%     446.000000    0.000000    3.000000   28.000000    0.000000   \n",
      "75%     668.500000    1.000000    3.000000   38.000000    1.000000   \n",
      "max     891.000000    1.000000    3.000000   80.000000    8.000000   \n",
      "\n",
      "            Parch        Fare  \n",
      "count  891.000000  891.000000  \n",
      "mean     0.381594   32.204208  \n",
      "std      0.806057   49.693429  \n",
      "min      0.000000    0.000000  \n",
      "25%      0.000000    7.910400  \n",
      "50%      0.000000   14.454200  \n",
      "75%      0.000000   31.000000  \n",
      "max      6.000000  512.329200  \n",
      "\n",
      "Missing Values:\n",
      "PassengerId      0\n",
      "Survived         0\n",
      "Pclass           0\n",
      "Name             0\n",
      "Sex              0\n",
      "Age            177\n",
      "SibSp            0\n",
      "Parch            0\n",
      "Ticket           0\n",
      "Fare             0\n",
      "Cabin          687\n",
      "Embarked         2\n",
      "dtype: int64\n",
      "\n",
      "Features Types:\n",
      "Column  PassengerId is dtype: int64\n",
      "Column  Survived is dtype: int64\n",
      "Column  Pclass is dtype: int64\n",
      "Column  Name is dtype: object\n",
      "Column  Sex is dtype: object\n",
      "Column  Age is dtype: float64\n",
      "Column  SibSp is dtype: int64\n",
      "Column  Parch is dtype: int64\n",
      "Column  Ticket is dtype: object\n",
      "Column  Fare is dtype: float64\n",
      "Column  Cabin is dtype: object\n",
      "Column  Embarked is dtype: object\n"
     ]
    }
   ],
   "source": [
    "df = train_data\n",
    "\n",
    "\n",
    "def all_about_my_data(df):\n",
    "    print(\"Here is some Basic Ground Info about the data:\\n\")\n",
    "    \n",
    "    # Shape of the data\n",
    "    print(\"Number of Instances:\",df.shape[0])\n",
    "    print(\"Number of Features:\",df.shape[1])\n",
    "    \n",
    "    # Summary Stats\n",
    "    print(\"\\nSummary Stats:\")\n",
    "    print(df.describe())\n",
    "    \n",
    "    # Missing Value Inspection\n",
    "    print(\"\\nMissing Values:\")\n",
    "    print(df.isna().sum())\n",
    "    #percentage if i want (df.isna().sum()/df.shape[0])*100))\n",
    "    \n",
    "    print(\"\\nFeatures Types:\")\n",
    "    for column in df.columns:\n",
    "        print(\"Column \", column, \"is dtype:\", df[column].dtype.name)\n",
    "\n",
    "all_about_my_data(df)"
   ]
  },
  {
   "cell_type": "markdown",
   "metadata": {},
   "source": [
    "## Feature Selection\n",
    "\n",
    "Target variable: survived, 0 or 1\n",
    "\n",
    "\n",
    "Relevant features related to the surviving rate: Fare and Pclass."
   ]
  },
  {
   "cell_type": "code",
   "execution_count": 4,
   "metadata": {},
   "outputs": [
    {
     "data": {
      "image/png": "[encoded data removed]",
      "text/plain": [
       "<Figure size 432x288 with 2 Axes>"
      ]
     },
     "metadata": {
      "needs_background": "light"
     },
     "output_type": "display_data"
    },
    {
     "name": "stdout",
     "output_type": "stream",
     "text": [
      "            Pclass  Survived\n",
      "Pclass    1.000000 -0.338481\n",
      "Survived -0.338481  1.000000\n",
      "              Fare  Survived\n",
      "Fare      1.000000  0.257307\n",
      "Survived  0.257307  1.000000\n"
     ]
    }
   ],
   "source": [
    "# Filter method: Pearson correlation all features\n",
    "correlation_mat = train_data.corr()\n",
    "sns.heatmap(correlation_mat, annot = True, cmap=\"BrBG\")\n",
    "plt.show()\n",
    "\n",
    "#highest corr with survival: pclass, fare\n",
    "#fare-pclass, age-pclass, parch-sibsp\n",
    "\n",
    "print(train_data[['Pclass', 'Survived']].corr())\n",
    "print(train_data[['Fare', 'Survived']].corr())"
   ]
  },
  {
   "cell_type": "code",
   "execution_count": 5,
   "metadata": {},
   "outputs": [
    {
     "data": {
      "text/html": [
       "<div>\n",
       "<style scoped>\n",
       "    .dataframe tbody tr th:only-of-type {\n",
       "        vertical-align: middle;\n",
       "    }\n",
       "\n",
       "    .dataframe tbody tr th {\n",
       "        vertical-align: top;\n",
       "    }\n",
       "\n",
       "    .dataframe thead th {\n",
       "        text-align: right;\n",
       "    }\n",
       "</style>\n",
       "<table border=\"1\" class=\"dataframe\">\n",
       "  <thead>\n",
       "    <tr style=\"text-align: right;\">\n",
       "      <th></th>\n",
       "      <th>Sex</th>\n",
       "      <th>Survived</th>\n",
       "    </tr>\n",
       "  </thead>\n",
       "  <tbody>\n",
       "    <tr>\n",
       "      <th>0</th>\n",
       "      <td>female</td>\n",
       "      <td>0.742038</td>\n",
       "    </tr>\n",
       "    <tr>\n",
       "      <th>1</th>\n",
       "      <td>male</td>\n",
       "      <td>0.188908</td>\n",
       "    </tr>\n",
       "  </tbody>\n",
       "</table>\n",
       "</div>"
      ],
      "text/plain": [
       "      Sex  Survived\n",
       "0  female  0.742038\n",
       "1    male  0.188908"
      ]
     },
     "execution_count": 5,
     "metadata": {},
     "output_type": "execute_result"
    }
   ],
   "source": [
    "train_data[[\"Sex\", \"Survived\"]].groupby(['Sex'], as_index=False).mean().sort_values(by='Survived', ascending=False)"
   ]
  },
  {
   "cell_type": "markdown",
   "metadata": {},
   "source": [
    "## Visualizations\n",
    "\n",
    "Histograms, Distplots, kdeplots are your friends"
   ]
  },
  {
   "cell_type": "code",
   "execution_count": 6,
   "metadata": {},
   "outputs": [
    {
     "data": {
      "text/plain": [
       "<seaborn.axisgrid.FacetGrid at 0x7f6fff3a0640>"
      ]
     },
     "execution_count": 6,
     "metadata": {},
     "output_type": "execute_result"
    },
    {
     "data": {
      "image/png": "[encoded data removed]",
      "text/plain": [
       "<Figure size 432x216 with 2 Axes>"
      ]
     },
     "metadata": {
      "needs_background": "light"
     },
     "output_type": "display_data"
    }
   ],
   "source": [
    "#Facetgrid is like a multi-plot grid for plotting conditional relationships. This class maps a dataset onto multiple axes arrayed in a grid of rows and columns that correspond to levels of variables in the dataset.\n",
    "#Histplot is only about the COUNT (or density, or probability) of a column/feature.\n",
    "\n",
    "#Histogram of survival(1) and death (0) by age.\n",
    "survived_grid = sns.FacetGrid(train_data, col='Survived')\n",
    "survived_grid.map_dataframe(sns.histplot, x='Age', bins=16)"
   ]
  },
  {
   "cell_type": "code",
   "execution_count": 7,
   "metadata": {},
   "outputs": [
    {
     "data": {
      "text/plain": [
       "<AxesSubplot:xlabel='Age', ylabel='Count'>"
      ]
     },
     "execution_count": 7,
     "metadata": {},
     "output_type": "execute_result"
    },
    {
     "data": {
      "image/png": "[encoded data removed]",
      "text/plain": [
       "<Figure size 432x288 with 1 Axes>"
      ]
     },
     "metadata": {
      "needs_background": "light"
     },
     "output_type": "display_data"
    }
   ],
   "source": [
    "#Another graphical representation of survival by age\n",
    "sns.histplot(train_data, x='Age', hue='Survived',multiple=\"layer\", bins=16, palette='RdBu_r', kde=True)"
   ]
  },
  {
   "cell_type": "code",
   "execution_count": 8,
   "metadata": {},
   "outputs": [
    {
     "data": {
      "text/plain": [
       "<AxesSubplot:xlabel='Age', ylabel='Density'>"
      ]
     },
     "execution_count": 8,
     "metadata": {},
     "output_type": "execute_result"
    },
    {
     "data": {
      "image/png": "[encoded data removed]",
      "text/plain": [
       "<Figure size 432x288 with 1 Axes>"
      ]
     },
     "metadata": {
      "needs_background": "light"
     },
     "output_type": "display_data"
    }
   ],
   "source": [
    "#kde plot (continuous probability density curve in one or more dimensions) but less smooth\n",
    "sns.kdeplot(data=train_data, x='Age', hue='Survived', bw_adjust=.3, multiple='stack', palette='RdBu_r')"
   ]
  },
  {
   "cell_type": "code",
   "execution_count": 9,
   "metadata": {},
   "outputs": [
    {
     "data": {
      "text/plain": [
       "<seaborn.axisgrid.FacetGrid at 0x7f6ffe8d6730>"
      ]
     },
     "execution_count": 9,
     "metadata": {},
     "output_type": "execute_result"
    },
    {
     "data": {
      "image/png": "[encoded data removed]",
      "text/plain": [
       "<Figure size 648x216 with 3 Axes>"
      ]
     },
     "metadata": {
      "needs_background": "light"
     },
     "output_type": "display_data"
    }
   ],
   "source": [
    "#Histogram of Passenger Class by age.\n",
    "pclass_grid = sns.FacetGrid(train_data, col='Pclass')\n",
    "pclass_grid.map_dataframe(sns.histplot, x='Age', bins=16)"
   ]
  },
  {
   "cell_type": "code",
   "execution_count": 10,
   "metadata": {},
   "outputs": [
    {
     "data": {
      "text/plain": [
       "<seaborn.axisgrid.FacetGrid at 0x7f6ffa4dd670>"
      ]
     },
     "execution_count": 10,
     "metadata": {},
     "output_type": "execute_result"
    },
    {
     "data": {
      "image/png": "[encoded data removed]",
      "text/plain": [
       "<Figure size 432x216 with 2 Axes>"
      ]
     },
     "metadata": {
      "needs_background": "light"
     },
     "output_type": "display_data"
    }
   ],
   "source": [
    "#Survival by Passenger Class\n",
    "survived_p_grid = sns.FacetGrid(train_data, col='Survived')\n",
    "survived_p_grid.map_dataframe(sns.histplot, x='Pclass', bins=3, discrete=True)"
   ]
  },
  {
   "cell_type": "code",
   "execution_count": 11,
   "metadata": {},
   "outputs": [
    {
     "data": {
      "text/plain": [
       "<seaborn.axisgrid.FacetGrid at 0x7f6ffa46b3a0>"
      ]
     },
     "execution_count": 11,
     "metadata": {},
     "output_type": "execute_result"
    },
    {
     "data": {
      "image/png": "[encoded data removed]",
      "text/plain": [
       "<Figure size 864x648 with 6 Axes>"
      ]
     },
     "metadata": {
      "needs_background": "light"
     },
     "output_type": "display_data"
    }
   ],
   "source": [
    "#Combining age, survival, pclass\n",
    "triple_grid = sns.FacetGrid(train_data, col='Survived', row='Pclass', hue='Survived', aspect=2, palette='RdBu_r')\n",
    "triple_grid.map_dataframe(sns.histplot, 'Age', bins=18)"
   ]
  },
  {
   "cell_type": "code",
   "execution_count": 12,
   "metadata": {},
   "outputs": [
    {
     "data": {
      "text/plain": [
       "<seaborn.axisgrid.FacetGrid at 0x7f6ffa007820>"
      ]
     },
     "execution_count": 12,
     "metadata": {},
     "output_type": "execute_result"
    },
    {
     "data": {
      "image/png": "[encoded data removed]",
      "text/plain": [
       "<Figure size 432x648 with 6 Axes>"
      ]
     },
     "metadata": {
      "needs_background": "light"
     },
     "output_type": "display_data"
    }
   ],
   "source": [
    "#Combining age, survival, pclass\n",
    "triple_grid = sns.FacetGrid(train_data, col='Survived', row='Pclass')\n",
    "triple_grid.map_dataframe(sns.histplot, 'Sex', shrink=0.8, stat=\"density\", hue='Sex',  palette='RdBu_r')\n",
    "\n",
    "\n",
    "   # count shows the number of observations\n",
    "\n",
    "  #  frequency shows the number of observations divided by the bin width\n",
    "\n",
    " #   density normalizes counts so that the area of the histogram is 1\n",
    "\n",
    "#    probability normalizes counts so that the sum of the bar heights is 1\n"
   ]
  },
  {
   "cell_type": "code",
   "execution_count": 13,
   "metadata": {},
   "outputs": [
    {
     "data": {
      "image/png": "[encoded data removed]",
      "text/plain": [
       "<Figure size 432x288 with 1 Axes>"
      ]
     },
     "metadata": {
      "needs_background": "light"
     },
     "output_type": "display_data"
    }
   ],
   "source": [
    "#Another graphical representation of survival by FARE - we can see an outlier\n",
    "survived_fare = sns.kdeplot(data=train_data, x='Fare', hue='Survived', bw_adjust=.2, palette='RdBu_r', levels=100)"
   ]
  },
  {
   "cell_type": "markdown",
   "metadata": {},
   "source": [
    "# Dealing with missing values\n",
    "\n",
    "Age            177\n",
    "SibSp            0\n",
    "Parch            0\n",
    "Ticket           0\n",
    "Fare             0\n",
    "Cabin          687\n",
    "Embarked         2\n",
    "\n"
   ]
  },
  {
   "cell_type": "code",
   "execution_count": 14,
   "metadata": {},
   "outputs": [
    {
     "name": "stdout",
     "output_type": "stream",
     "text": [
      "PassengerId      0\n",
      "Survived         0\n",
      "Pclass           0\n",
      "Name             0\n",
      "Sex              0\n",
      "Age            177\n",
      "SibSp            0\n",
      "Parch            0\n",
      "Ticket           0\n",
      "Fare             0\n",
      "Cabin          687\n",
      "Embarked         2\n",
      "dtype: int64\n",
      "********************\n",
      "PassengerId      0\n",
      "Pclass           0\n",
      "Name             0\n",
      "Sex              0\n",
      "Age             86\n",
      "SibSp            0\n",
      "Parch            0\n",
      "Ticket           0\n",
      "Fare             1\n",
      "Cabin          327\n",
      "Embarked         0\n",
      "dtype: int64\n",
      "********************\n"
     ]
    }
   ],
   "source": [
    "#state of things\n",
    "\n",
    "combined_data = [train_data, test_data]\n",
    "\n",
    "def visual_report(combined_data):\n",
    "    for data in combined_data:\n",
    "        print(data.isnull().sum())\n",
    "        print('*' * 20)\n",
    "      \n",
    "visual_report(combined_data)"
   ]
  },
  {
   "cell_type": "code",
   "execution_count": 15,
   "metadata": {},
   "outputs": [],
   "source": [
    "# filling the nan values fo Age and fare column with the mean while Embarked column with most_frequent value\n",
    "for data in combined_data:\n",
    "    data.Age.fillna(data.Age.mean(), inplace = True)\n",
    "    data.Fare.fillna(data.Fare.mean(), inplace = True)\n",
    "    \n",
    "# from visualization we know that Southamptom is most frequent Embarked place so, filling the missing value \n",
    "# with 'S'\n",
    "train_data.Embarked.fillna('S', inplace = True)\n",
    "\n",
    "#Mapping dual categorical data\n",
    "train_data.Sex = train_data.Sex.map({'female':1, 'male':0})\n",
    "test_data.Sex = test_data.Sex.map({'female':1, 'male':0})"
   ]
  },
  {
   "cell_type": "code",
   "execution_count": 16,
   "metadata": {},
   "outputs": [],
   "source": [
    "#Mapping 3 categorie data\n",
    "change = {'S':1,'C':2,'Q':0}\n",
    "train_data.Embarked = train_data.Embarked.map(change)\n",
    "test_data.Embarked = test_data.Embarked.map(change)\n",
    "\n",
    "train_data.Embarked.fillna(train_data.Embarked.mean(), inplace=True)"
   ]
  },
  {
   "cell_type": "code",
   "execution_count": 17,
   "metadata": {},
   "outputs": [],
   "source": [
    "# before filling the missing values, let's drop Cabin column from both data.\n",
    "train_data.drop('Cabin', axis = 1, inplace = True)\n",
    "test_data.drop('Cabin', axis = 1, inplace = True)"
   ]
  },
  {
   "cell_type": "code",
   "execution_count": 18,
   "metadata": {},
   "outputs": [
    {
     "name": "stdout",
     "output_type": "stream",
     "text": [
      "Survived    0\n",
      "Pclass      0\n",
      "Sex         0\n",
      "Age         0\n",
      "Fare        0\n",
      "Embarked    0\n",
      "dtype: int64\n",
      "********************\n",
      "PassengerId    0\n",
      "Pclass         0\n",
      "Sex            0\n",
      "Age            0\n",
      "Fare           0\n",
      "Embarked       0\n",
      "dtype: int64\n",
      "********************\n"
     ]
    }
   ],
   "source": [
    "# now lets drop SibSp and Parch column for both training and testing data\n",
    "train_data.drop(['SibSp','Parch'], axis = 1, inplace = True)\n",
    "test_data.drop(['SibSp','Parch'], axis = 1, inplace = True )\n",
    "\n",
    "columns_to_drop = ['PassengerId','Ticket','Name']\n",
    "train_data.drop(columns_to_drop, axis = 1, inplace = True)\n",
    "test_data.drop(columns_to_drop[1:], axis = 1, inplace = True)\n",
    "\n",
    "visual_report(combined_data)"
   ]
  },
  {
   "cell_type": "code",
   "execution_count": null,
   "metadata": {},
   "outputs": [],
   "source": []
  },
  {
   "cell_type": "code",
   "execution_count": null,
   "metadata": {},
   "outputs": [],
   "source": []
  },
  {
   "cell_type": "code",
   "execution_count": 19,
   "metadata": {},
   "outputs": [
    {
     "name": "stdout",
     "output_type": "stream",
     "text": [
      "Survived    0\n",
      "Pclass      0\n",
      "Sex         0\n",
      "Age         0\n",
      "Fare        0\n",
      "Embarked    0\n",
      "dtype: int64\n",
      "********************\n",
      "PassengerId    0\n",
      "Pclass         0\n",
      "Sex            0\n",
      "Age            0\n",
      "Fare           0\n",
      "Embarked       0\n",
      "dtype: int64\n",
      "********************\n"
     ]
    }
   ],
   "source": [
    "#binning\n",
    "\n",
    "for dataset in combined_data:    \n",
    "    dataset.loc[ dataset['Age'] <= 16, 'Age'] = 0\n",
    "    dataset.loc[(dataset['Age'] > 16) & (dataset['Age'] <= 32), 'Age'] = 1\n",
    "    dataset.loc[(dataset['Age'] > 32) & (dataset['Age'] <= 48), 'Age'] = 2\n",
    "    dataset.loc[(dataset['Age'] > 48) & (dataset['Age'] <= 64), 'Age'] = 3\n",
    "    dataset.loc[ dataset['Age'] > 64, 'Age'] = 4\n",
    "\n",
    "\n",
    "for data in combined_data:\n",
    "    data.loc[data['Fare'] < 30, 'Fare'] = 1\n",
    "    data.loc[(data['Fare'] >= 30) & (data['Fare'] < 50),'Fare'] = 2\n",
    "    data.loc[(data['Fare'] >= 50) & (data['Fare'] < 100),'Fare'] = 3\n",
    "    data.loc[(data['Fare'] >= 100),'Fare'] = 4\n",
    "\n",
    "visual_report(combined_data)"
   ]
  },
  {
   "cell_type": "code",
   "execution_count": null,
   "metadata": {},
   "outputs": [],
   "source": []
  },
  {
   "cell_type": "code",
   "execution_count": 20,
   "metadata": {},
   "outputs": [
    {
     "name": "stdout",
     "output_type": "stream",
     "text": [
      "shape of X_train (891, 5)\n",
      "Shape of Y_train (891,)\n",
      "Shape of x_test (418, 5)\n"
     ]
    }
   ],
   "source": [
    "X_train = train_data.drop(\"Survived\", axis=1) #fit\n",
    "\n",
    "Y_train = train_data[\"Survived\"] #predict\n",
    "\n",
    "X_test = test_data.drop(\"PassengerId\", axis = 1) #evaluate\n",
    "\n",
    "print(\"shape of X_train\",X_train.shape)\n",
    "print(\"Shape of Y_train\",Y_train.shape)\n",
    "print(\"Shape of x_test\",X_test.shape)"
   ]
  },
  {
   "cell_type": "markdown",
   "metadata": {},
   "source": [
    "# Neural Networks"
   ]
  },
  {
   "cell_type": "code",
   "execution_count": 21,
   "metadata": {},
   "outputs": [],
   "source": [
    "import tensorflow as tf\n",
    "import keras \n",
    "from keras.layers import Dense, Dropout, Input\n",
    "from keras.models import Sequential"
   ]
  },
  {
   "cell_type": "markdown",
   "metadata": {},
   "source": [
    "### First try"
   ]
  },
  {
   "cell_type": "code",
   "execution_count": 22,
   "metadata": {},
   "outputs": [
    {
     "name": "stdout",
     "output_type": "stream",
     "text": [
      "Model: \"sequential\"\n",
      "_________________________________________________________________\n",
      "Layer (type)                 Output Shape              Param #   \n",
      "=================================================================\n",
      "dense (Dense)                (None, 32)                192       \n",
      "_________________________________________________________________\n",
      "dense_1 (Dense)              (None, 64)                2048      \n",
      "_________________________________________________________________\n",
      "batch_normalization (BatchNo (None, 64)                256       \n",
      "_________________________________________________________________\n",
      "dense_2 (Dense)              (None, 128)               8192      \n",
      "_________________________________________________________________\n",
      "dropout (Dropout)            (None, 128)               0         \n",
      "_________________________________________________________________\n",
      "dense_3 (Dense)              (None, 64)                8192      \n",
      "_________________________________________________________________\n",
      "dropout_1 (Dropout)          (None, 64)                0         \n",
      "_________________________________________________________________\n",
      "dense_4 (Dense)              (None, 32)                2080      \n",
      "_________________________________________________________________\n",
      "dropout_2 (Dropout)          (None, 32)                0         \n",
      "_________________________________________________________________\n",
      "dense_5 (Dense)              (None, 16)                528       \n",
      "_________________________________________________________________\n",
      "dense_6 (Dense)              (None, 8)                 128       \n",
      "_________________________________________________________________\n",
      "dense_7 (Dense)              (None, 1)                 9         \n",
      "=================================================================\n",
      "Total params: 21,625\n",
      "Trainable params: 21,497\n",
      "Non-trainable params: 128\n",
      "_________________________________________________________________\n"
     ]
    }
   ],
   "source": [
    "model = Sequential()\n",
    "model.add(Dense(units = 32, input_shape = (5,), activation = 'relu'))\n",
    "model.add(Dense(units = 64, activation = 'relu', kernel_initializer = 'he_normal', use_bias = False))\n",
    "model.add(tf.keras.layers.BatchNormalization())\n",
    "model.add(Dense(units = 128, activation = 'relu',kernel_initializer = 'he_normal', use_bias = False))\n",
    "model.add(Dropout(0.1))\n",
    "model.add(Dense(units = 64, activation = 'relu',kernel_initializer = 'he_normal', use_bias = False))\n",
    "model.add(Dropout(0.1))\n",
    "model.add(Dense(units = 32, activation = 'relu'))\n",
    "model.add(Dropout(0.15))\n",
    "model.add(Dense(units = 16, activation = 'relu'))\n",
    "model.add(Dense(units = 8, activation = 'relu',kernel_initializer = 'he_normal', use_bias = False))\n",
    "model.add(Dense(units =1 , activation = 'sigmoid'))\n",
    "model.summary()"
   ]
  },
  {
   "cell_type": "code",
   "execution_count": 23,
   "metadata": {},
   "outputs": [],
   "source": [
    "model.compile(loss = tf.keras.losses.binary_crossentropy, optimizer = tf.keras.optimizers.Adam(), metrics = ['acc'])"
   ]
  },
  {
   "cell_type": "code",
   "execution_count": 24,
   "metadata": {},
   "outputs": [
    {
     "name": "stdout",
     "output_type": "stream",
     "text": [
      "Epoch 1/50\n",
      "28/28 - 1s - loss: 0.6840 - acc: 0.5892\n",
      "Epoch 2/50\n",
      "28/28 - 0s - loss: 0.5919 - acc: 0.7452\n",
      "Epoch 3/50\n",
      "28/28 - 0s - loss: 0.5007 - acc: 0.7778\n",
      "Epoch 4/50\n",
      "28/28 - 0s - loss: 0.4560 - acc: 0.7957\n",
      "Epoch 5/50\n",
      "28/28 - 0s - loss: 0.4521 - acc: 0.8081\n",
      "Epoch 6/50\n",
      "28/28 - 0s - loss: 0.4604 - acc: 0.7991\n",
      "Epoch 7/50\n",
      "28/28 - 0s - loss: 0.4315 - acc: 0.8193\n",
      "Epoch 8/50\n",
      "28/28 - 0s - loss: 0.4240 - acc: 0.8092\n",
      "Epoch 9/50\n",
      "28/28 - 0s - loss: 0.4378 - acc: 0.8103\n",
      "Epoch 10/50\n",
      "28/28 - 0s - loss: 0.4266 - acc: 0.8081\n",
      "Epoch 11/50\n",
      "28/28 - 0s - loss: 0.4239 - acc: 0.8148\n",
      "Epoch 12/50\n",
      "28/28 - 0s - loss: 0.4280 - acc: 0.8092\n",
      "Epoch 13/50\n",
      "28/28 - 0s - loss: 0.4234 - acc: 0.8204\n",
      "Epoch 14/50\n",
      "28/28 - 0s - loss: 0.4185 - acc: 0.8227\n",
      "Epoch 15/50\n",
      "28/28 - 0s - loss: 0.4265 - acc: 0.8025\n",
      "Epoch 16/50\n",
      "28/28 - 0s - loss: 0.4219 - acc: 0.8114\n",
      "Epoch 17/50\n",
      "28/28 - 0s - loss: 0.4247 - acc: 0.8148\n",
      "Epoch 18/50\n",
      "28/28 - 0s - loss: 0.4271 - acc: 0.8193\n",
      "Epoch 19/50\n",
      "28/28 - 0s - loss: 0.4032 - acc: 0.8204\n",
      "Epoch 20/50\n",
      "28/28 - 0s - loss: 0.4101 - acc: 0.8193\n",
      "Epoch 21/50\n",
      "28/28 - 0s - loss: 0.4079 - acc: 0.8238\n",
      "Epoch 22/50\n",
      "28/28 - 0s - loss: 0.4235 - acc: 0.8092\n",
      "Epoch 23/50\n",
      "28/28 - 0s - loss: 0.4150 - acc: 0.8204\n",
      "Epoch 24/50\n",
      "28/28 - 0s - loss: 0.4076 - acc: 0.8182\n",
      "Epoch 25/50\n",
      "28/28 - 0s - loss: 0.4054 - acc: 0.8081\n",
      "Epoch 26/50\n",
      "28/28 - 0s - loss: 0.4145 - acc: 0.8148\n",
      "Epoch 27/50\n",
      "28/28 - 0s - loss: 0.4144 - acc: 0.8283\n",
      "Epoch 28/50\n",
      "28/28 - 0s - loss: 0.4270 - acc: 0.8137\n",
      "Epoch 29/50\n",
      "28/28 - 0s - loss: 0.4102 - acc: 0.8171\n",
      "Epoch 30/50\n",
      "28/28 - 0s - loss: 0.4081 - acc: 0.8159\n",
      "Epoch 31/50\n",
      "28/28 - 0s - loss: 0.4112 - acc: 0.8137\n",
      "Epoch 32/50\n",
      "28/28 - 0s - loss: 0.4117 - acc: 0.7980\n",
      "Epoch 33/50\n",
      "28/28 - 0s - loss: 0.3945 - acc: 0.8215\n",
      "Epoch 34/50\n",
      "28/28 - 0s - loss: 0.4080 - acc: 0.8249\n",
      "Epoch 35/50\n",
      "28/28 - 0s - loss: 0.4056 - acc: 0.8249\n",
      "Epoch 36/50\n",
      "28/28 - 0s - loss: 0.4131 - acc: 0.8148\n",
      "Epoch 37/50\n",
      "28/28 - 0s - loss: 0.4082 - acc: 0.8272\n",
      "Epoch 38/50\n",
      "28/28 - 0s - loss: 0.4095 - acc: 0.8171\n",
      "Epoch 39/50\n",
      "28/28 - 0s - loss: 0.4111 - acc: 0.8294\n",
      "Epoch 40/50\n",
      "28/28 - 0s - loss: 0.4028 - acc: 0.8249\n",
      "Epoch 41/50\n",
      "28/28 - 0s - loss: 0.3968 - acc: 0.8238\n",
      "Epoch 42/50\n",
      "28/28 - 0s - loss: 0.3986 - acc: 0.8193\n",
      "Epoch 43/50\n",
      "28/28 - 0s - loss: 0.4062 - acc: 0.8148\n",
      "Epoch 44/50\n",
      "28/28 - 0s - loss: 0.4133 - acc: 0.8137\n",
      "Epoch 45/50\n",
      "28/28 - 0s - loss: 0.4047 - acc: 0.8193\n",
      "Epoch 46/50\n",
      "28/28 - 0s - loss: 0.3978 - acc: 0.8193\n",
      "Epoch 47/50\n",
      "28/28 - 0s - loss: 0.4098 - acc: 0.8159\n",
      "Epoch 48/50\n",
      "28/28 - 0s - loss: 0.4037 - acc: 0.8171\n",
      "Epoch 49/50\n",
      "28/28 - 0s - loss: 0.4017 - acc: 0.8182\n",
      "Epoch 50/50\n",
      "28/28 - 0s - loss: 0.3983 - acc: 0.8272\n"
     ]
    },
    {
     "data": {
      "text/plain": [
       "<tensorflow.python.keras.callbacks.History at 0x7f6fc825c910>"
      ]
     },
     "execution_count": 24,
     "metadata": {},
     "output_type": "execute_result"
    }
   ],
   "source": [
    "model.fit(X_train, Y_train, batch_size = 32, verbose = 2, epochs = 50)"
   ]
  },
  {
   "cell_type": "markdown",
   "metadata": {},
   "source": [
    "### Predicting for test_data"
   ]
  },
  {
   "cell_type": "code",
   "execution_count": 25,
   "metadata": {},
   "outputs": [],
   "source": [
    "predict = model.predict(X_test)\n",
    "#since we have use sigmoid activation function in output layer\n",
    "predict = (predict > 0.5).astype(int).ravel()"
   ]
  },
  {
   "cell_type": "code",
   "execution_count": 26,
   "metadata": {},
   "outputs": [
    {
     "name": "stdout",
     "output_type": "stream",
     "text": [
      "Precision :  90.52\n",
      "Accuracy :  82.72\n",
      "Recall :  61.4\n",
      "F1 score :  73.17\n",
      "AUC :  78.7\n"
     ]
    },
    {
     "data": {
      "image/png": "[encoded data removed]",
      "text/plain": [
       "<Figure size 432x288 with 2 Axes>"
      ]
     },
     "metadata": {
      "needs_background": "light"
     },
     "output_type": "display_data"
    }
   ],
   "source": [
    "from sklearn import metrics\n",
    "Y_pred_rand = (model.predict(X_train) > 0.5).astype(int)\n",
    "\n",
    "print('Precision : ', np.round(metrics.precision_score(Y_train, Y_pred_rand)*100,2))\n",
    "print('Accuracy : ', np.round(metrics.accuracy_score(Y_train, Y_pred_rand)*100,2))\n",
    "print('Recall : ', np.round(metrics.recall_score(Y_train, Y_pred_rand)*100,2))\n",
    "print('F1 score : ', np.round(metrics.f1_score(Y_train, Y_pred_rand)*100,2))\n",
    "print('AUC : ', np.round(metrics.roc_auc_score(Y_train, Y_pred_rand)*100,2))\n",
    "\n",
    "# plotting the confusion matrix in heatmap\n",
    "matrix = metrics.confusion_matrix(Y_train, Y_pred_rand)\n",
    "sns.heatmap(matrix, annot = True,fmt = 'g')\n",
    "plt.show()"
   ]
  },
  {
   "cell_type": "code",
   "execution_count": 28,
   "metadata": {},
   "outputs": [
    {
     "data": {
      "text/plain": [
       "(418, 2)"
      ]
     },
     "execution_count": 28,
     "metadata": {},
     "output_type": "execute_result"
    }
   ],
   "source": [
    "submit = pd.DataFrame({\"PassengerId\":test_data.PassengerId, 'Survived':predict})\n",
    "submit.to_csv(\"final_submission.csv\",index = False)\n",
    "submit.shape"
   ]
  },
  {
   "cell_type": "code",
   "execution_count": null,
   "metadata": {},
   "outputs": [],
   "source": []
  }
 ],
 "metadata": {
  "kernelspec": {
   "display_name": "Python 3",
   "language": "python",
   "name": "python3"
  },
  "language_info": {
   "codemirror_mode": {
    "name": "ipython",
    "version": 3
   },
   "file_extension": ".py",
   "mimetype": "text/x-python",
   "name": "python",
   "nbconvert_exporter": "python",
   "pygments_lexer": "ipython3",
   "version": "3.8.5"
  }
 },
 "nbformat": 4,
 "nbformat_minor": 4
}
